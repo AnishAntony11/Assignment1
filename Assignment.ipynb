{
  "nbformat": 4,
  "nbformat_minor": 0,
  "metadata": {
    "colab": {
      "name": "Assignment.ipynb",
      "provenance": []
    },
    "kernelspec": {
      "name": "python3",
      "display_name": "Python 3"
    },
    "language_info": {
      "name": "python"
    }
  },
  "cells": [
    {
      "cell_type": "code",
      "metadata": {
        "colab": {
          "base_uri": "https://localhost:8080/",
          "height": 348
        },
        "id": "qhKSoeR1ZDYd",
        "outputId": "b9f9b24f-1cef-4376-a0fa-7016665a6643"
      },
      "source": [
        "import matplotlib.pyplot as plt\n",
        "import math\n",
        "import numpy as np\n",
        "\n",
        "#Given points\n",
        "\n",
        "A = np.array([0, 0])\n",
        "B = np.array([2, 2])\n",
        "C = np.array([-2, 3.5 ])\n",
        "\n",
        "#Distance between points\n",
        "\n",
        "norm_AB = round(np.linalg.norm(B-A))\n",
        "print(\"The distance between points AB is\", norm_AB)\n",
        "\n",
        "norm_BC = round(np.linalg.norm(C-B))\n",
        "print(\"The distance between points BC is\", norm_BC)\n",
        "\n",
        "norm_AC = round(np.linalg.norm(C-A))\n",
        "print(\"The distance between points AC is\", norm_AC)\n",
        "\n",
        "if norm_AB == norm_BC == norm_AC:\n",
        "  print(\"Given points forms an equilateral triangle\")\n",
        "else:\n",
        "  print(\"Given points does not form an equilateral triangle\")\n",
        "\n",
        "def line_gen(A,B):\n",
        "  len =10\n",
        "  dim = A.shape[0]\n",
        "  x_AB = np.zeros((dim,len))\n",
        "  lam_1 = np.linspace(0,1,len)\n",
        "  for i in range(len):\n",
        "    temp1 = A + lam_1[i]*(B-A)\n",
        "    x_AB[:,i]= temp1.T\n",
        "  return x_AB\n",
        "\n",
        "#Generating all lines\n",
        "x_AB = line_gen(A,B)\n",
        "x_BC = line_gen(B,C)\n",
        "x_CA = line_gen(C,A)\n",
        "\n",
        "#Plotting all lines\n",
        "plt.plot(x_AB[0,:],x_AB[1,:],label='$AB$')\n",
        "plt.plot(x_BC[0,:],x_BC[1,:],label='$BC$')\n",
        "plt.plot(x_CA[0,:],x_CA[1,:],label='$CA$')\n",
        "\n",
        "plt.plot(A[0], A[1], 'o')\n",
        "plt.text(A[0] + (0.1), A[1] +(0.3) , 'A')\n",
        "plt.plot(B[0], B[1], 'o')\n",
        "plt.text(B[0] * (1+0.03), B[1] * (1) , 'B')\n",
        "plt.plot(C[0], C[1], 'o')\n",
        "plt.text(C[0] * (1 - 0.1), C[1] * (1 + 0.1) , 'C')\n",
        "\n",
        "\n",
        "plt.xlabel('$x$')\n",
        "plt.ylabel('$y$')\n",
        "plt.legend(loc='best')\n",
        "plt.grid()\n",
        "plt.xlim(-5, 5)\n",
        "plt.ylim(-5, 5)\n",
        "plt.savefig('Triangle.png')\n",
        "plt.show()"
      ],
      "execution_count": 10,
      "outputs": [
        {
          "output_type": "stream",
          "name": "stdout",
          "text": [
            "The distance between points AB is 3\n",
            "The distance between points BC is 4\n",
            "The distance between points AC is 4\n",
            "Given points does not form an equilateral triangle\n"
          ]
        },
        {
          "output_type": "display_data",
          "data": {
            "image/png": "[encoded data removed]",
            "text/plain": [
              "<Figure size 432x288 with 1 Axes>"
            ]
          },
          "metadata": {
            "needs_background": "light"
          }
        }
      ]
    },
    {
      "cell_type": "code",
      "metadata": {
        "id": "1MDCBd9MvMta"
      },
      "source": [
        ""
      ],
      "execution_count": null,
      "outputs": []
    }
  ]
}